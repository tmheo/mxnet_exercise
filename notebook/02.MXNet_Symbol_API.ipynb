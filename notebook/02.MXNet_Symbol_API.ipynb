{
 "cells": [
  {
   "cell_type": "code",
   "execution_count": 1,
   "metadata": {
    "collapsed": false
   },
   "outputs": [
    {
     "data": {
      "text/plain": [
       "'0.10.0'"
      ]
     },
     "execution_count": 1,
     "metadata": {},
     "output_type": "execute_result"
    }
   ],
   "source": [
    "import mxnet as mx\n",
    "mx.__version__"
   ]
  },
  {
   "cell_type": "code",
   "execution_count": 2,
   "metadata": {
    "collapsed": true
   },
   "outputs": [],
   "source": [
    "a = mx.symbol.Variable('A')\n",
    "b = mx.symbol.Variable('B')\n",
    "c = mx.symbol.Variable('C')\n",
    "d = mx.symbol.Variable('D')\n",
    "e = (a*b)+(c*d)"
   ]
  },
  {
   "cell_type": "code",
   "execution_count": 4,
   "metadata": {
    "collapsed": false
   },
   "outputs": [
    {
     "name": "stdout",
     "output_type": "stream",
     "text": [
      "(<Symbol A>, <Symbol B>, <Symbol C>, <Symbol D>)\n",
      "<Symbol _plus0>\n"
     ]
    },
    {
     "data": {
      "text/plain": [
       "mxnet.symbol.Symbol"
      ]
     },
     "execution_count": 4,
     "metadata": {},
     "output_type": "execute_result"
    }
   ],
   "source": [
    "print((a,b,c,d))\n",
    "print(e)\n",
    "type(e)"
   ]
  },
  {
   "cell_type": "code",
   "execution_count": 5,
   "metadata": {
    "collapsed": false
   },
   "outputs": [
    {
     "name": "stdout",
     "output_type": "stream",
     "text": [
      "['A', 'B', 'C', 'D']\n",
      "['_plus0_output']\n",
      "['A', 'B', '_mul0_output', 'C', 'D', '_mul1_output', '_plus0_output']\n"
     ]
    }
   ],
   "source": [
    "print(e.list_arguments())\n",
    "print(e.list_outputs())\n",
    "print(e.get_internals().list_outputs())"
   ]
  },
  {
   "cell_type": "code",
   "execution_count": 7,
   "metadata": {
    "collapsed": false
   },
   "outputs": [],
   "source": [
    "import numpy as np\n",
    "\n",
    "a_data = mx.nd.array([1], dtype=np.int32)\n",
    "b_data = mx.nd.array([2], dtype=np.int32)\n",
    "c_data = mx.nd.array([3], dtype=np.int32)\n",
    "d_data = mx.nd.array([4], dtype=np.int32)"
   ]
  },
  {
   "cell_type": "code",
   "execution_count": 8,
   "metadata": {
    "collapsed": false
   },
   "outputs": [
    {
     "name": "stdout",
     "output_type": "stream",
     "text": [
      "<mxnet.executor.Executor object at 0x11590b748>\n"
     ]
    }
   ],
   "source": [
    "executor=e.bind(mx.cpu(), {'A':a_data, 'B':b_data, 'C':c_data, 'D':d_data})\n",
    "print(executor)"
   ]
  },
  {
   "cell_type": "code",
   "execution_count": 9,
   "metadata": {
    "collapsed": false
   },
   "outputs": [
    {
     "name": "stdout",
     "output_type": "stream",
     "text": [
      "[<NDArray 1 @cpu(0)>]\n",
      "<NDArray 1 @cpu(0)>\n",
      "[14]\n"
     ]
    }
   ],
   "source": [
    "e_data = executor.forward()\n",
    "print(e_data)\n",
    "print(e_data[0])\n",
    "print(e_data[0].asnumpy())"
   ]
  },
  {
   "cell_type": "code",
   "execution_count": 10,
   "metadata": {
    "collapsed": true
   },
   "outputs": [],
   "source": [
    "a_data = mx.nd.uniform(low=0, high=1, shape=(1000,1000))\n",
    "b_data = mx.nd.uniform(low=0, high=1, shape=(1000,1000))\n",
    "c_data = mx.nd.uniform(low=0, high=1, shape=(1000,1000))\n",
    "d_data = mx.nd.uniform(low=0, high=1, shape=(1000,1000))"
   ]
  },
  {
   "cell_type": "code",
   "execution_count": 11,
   "metadata": {
    "collapsed": true
   },
   "outputs": [],
   "source": [
    "executor=e.bind(mx.cpu(), {'A':a_data, 'B':b_data, 'C':c_data, 'D':d_data})\n",
    "e_data = executor.forward()"
   ]
  },
  {
   "cell_type": "code",
   "execution_count": 12,
   "metadata": {
    "collapsed": false
   },
   "outputs": [
    {
     "name": "stdout",
     "output_type": "stream",
     "text": [
      "[<NDArray 1000x1000 @cpu(0)>]\n",
      "<NDArray 1000x1000 @cpu(0)>\n",
      "[[ 0.75343227  0.37869972  0.6261797  ...,  0.26404113  0.43338114\n",
      "   1.09734952]\n",
      " [ 0.12600568  0.18345788  0.43362164 ...,  0.30271506  1.1358881\n",
      "   0.63767892]\n",
      " [ 0.31715512  0.7421391   0.92894536 ...,  0.79972208  0.03578787\n",
      "   0.88188899]\n",
      " ..., \n",
      " [ 0.67264086  0.45159516  0.60187286 ...,  0.48275885  0.97438043\n",
      "   1.28993714]\n",
      " [ 0.21868719  0.01420142  0.20878199 ...,  1.46020031  0.53960776\n",
      "   0.53361332]\n",
      " [ 0.16465412  0.05629187  0.1873045  ...,  0.11784555  0.59362054\n",
      "   0.92460036]]\n"
     ]
    }
   ],
   "source": [
    "print(e_data)\n",
    "print(e_data[0])\n",
    "print(e_data[0].asnumpy())"
   ]
  },
  {
   "cell_type": "code",
   "execution_count": null,
   "metadata": {
    "collapsed": true
   },
   "outputs": [],
   "source": []
  }
 ],
 "metadata": {
  "kernelspec": {
   "display_name": "Python 3",
   "language": "python",
   "name": "python3"
  },
  "language_info": {
   "codemirror_mode": {
    "name": "ipython",
    "version": 3
   },
   "file_extension": ".py",
   "mimetype": "text/x-python",
   "name": "python",
   "nbconvert_exporter": "python",
   "pygments_lexer": "ipython3",
   "version": "3.5.3"
  }
 },
 "nbformat": 4,
 "nbformat_minor": 2
}
