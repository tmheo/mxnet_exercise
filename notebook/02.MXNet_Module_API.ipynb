{
 "cells": [
  {
   "cell_type": "code",
   "execution_count": 14,
   "metadata": {
    "collapsed": true
   },
   "outputs": [],
   "source": [
    "import mxnet as mx\n",
    "import numpy as np\n",
    "import logging\n",
    "\n",
    "logging.basicConfig(level=logging.INFO)\n",
    "\n",
    "sample_count = 1000\n",
    "train_count = 800\n",
    "valid_count = sample_count - train_count\n",
    "\n",
    "feature_count = 100\n",
    "category_count = 10\n",
    "batch=10"
   ]
  },
  {
   "cell_type": "code",
   "execution_count": 2,
   "metadata": {
    "collapsed": false
   },
   "outputs": [
    {
     "name": "stdout",
     "output_type": "stream",
     "text": [
      "(1000, 100)\n",
      "[[ 0.54881352  0.59284461  0.71518934 ...,  0.60783064  0.36371076\n",
      "   0.32504722]\n",
      " [ 0.57019675  0.03842543  0.43860152 ...,  0.36980811  0.00469548\n",
      "   0.14644176]\n",
      " [ 0.67781651  0.5696184   0.27000797 ...,  0.46924916  0.99884701\n",
      "   0.84114015]\n",
      " ..., \n",
      " [ 0.59305507  0.41538411  0.24317271 ...,  0.58364183  0.8284471\n",
      "   0.4361586 ]\n",
      " [ 0.71750212  0.5193429   0.80764365 ...,  0.15779524  0.86435819\n",
      "   0.72405148]\n",
      " [ 0.82241368  0.72197711  0.85116214 ...,  0.24351381  0.55131787\n",
      "   0.12545156]]\n"
     ]
    }
   ],
   "source": [
    "X = mx.nd.uniform(low=0, high=1, shape=(sample_count,feature_count))\n",
    "\n",
    "print(X.shape)\n",
    "print(X.asnumpy())"
   ]
  },
  {
   "cell_type": "code",
   "execution_count": 3,
   "metadata": {
    "collapsed": false
   },
   "outputs": [
    {
     "name": "stdout",
     "output_type": "stream",
     "text": [
      "(1000,)\n",
      "[ 0.  1.  1.  4.  8.  4.  4.  0.  3.  2.]\n"
     ]
    }
   ],
   "source": [
    "Y = mx.nd.empty((sample_count,))\n",
    "for i in range(0,sample_count-1):\n",
    "  Y[i] = np.random.randint(0,category_count)\n",
    "\n",
    "print(Y.shape)\n",
    "print(Y[0:10].asnumpy())"
   ]
  },
  {
   "cell_type": "code",
   "execution_count": 5,
   "metadata": {
    "collapsed": false
   },
   "outputs": [
    {
     "name": "stdout",
     "output_type": "stream",
     "text": [
      "(800, 100)\n",
      "(200, 100)\n",
      "(800,)\n",
      "(200,)\n"
     ]
    }
   ],
   "source": [
    "X_train = mx.nd.crop(X, begin=(0,0), end=(train_count,feature_count))\n",
    "print(X_train.shape)\n",
    "\n",
    "X_valid = mx.nd.crop(X, begin=(train_count,0), end=(sample_count,feature_count))\n",
    "print(X_valid.shape)\n",
    "\n",
    "Y_train = Y[0:train_count]\n",
    "print(Y_train.shape)\n",
    "\n",
    "Y_valid = Y[train_count:sample_count]\n",
    "print(Y_valid.shape)"
   ]
  },
  {
   "cell_type": "code",
   "execution_count": 6,
   "metadata": {
    "collapsed": true
   },
   "outputs": [],
   "source": [
    "data = mx.sym.Variable('data')\n",
    "fc1 = mx.sym.FullyConnected(data, name='fc1', num_hidden=64)\n",
    "relu1 = mx.sym.Activation(fc1, name='relu1', act_type=\"relu\")\n",
    "fc2 = mx.sym.FullyConnected(relu1, name='fc2', num_hidden=category_count)\n",
    "out = mx.sym.SoftmaxOutput(fc2, name='softmax')\n",
    "mod = mx.mod.Module(out)"
   ]
  },
  {
   "cell_type": "code",
   "execution_count": 15,
   "metadata": {
    "collapsed": false
   },
   "outputs": [],
   "source": [
    "train_iter = mx.io.NDArrayIter(data=X_train,label=Y_train,batch_size=batch)"
   ]
  },
  {
   "cell_type": "code",
   "execution_count": 16,
   "metadata": {
    "collapsed": false
   },
   "outputs": [
    {
     "name": "stderr",
     "output_type": "stream",
     "text": [
      "WARNING:root:Already bound, ignoring bind()\n",
      "/Users/taemyung/anaconda/envs/py35/lib/python3.5/site-packages/mxnet/module/base_module.py:463: UserWarning: Parameters already initialized and force_init=False. init_params call ignored.\n",
      "  allow_missing=allow_missing, force_init=force_init)\n",
      "WARNING:root:optimizer already initialized, ignoring...\n",
      "INFO:root:Epoch[0] Train-accuracy=0.111250\n",
      "INFO:root:Epoch[0] Time cost=0.047\n",
      "INFO:root:Epoch[1] Train-accuracy=0.147500\n",
      "INFO:root:Epoch[1] Time cost=0.048\n",
      "INFO:root:Epoch[2] Train-accuracy=0.167500\n",
      "INFO:root:Epoch[2] Time cost=0.044\n",
      "INFO:root:Epoch[3] Train-accuracy=0.185000\n",
      "INFO:root:Epoch[3] Time cost=0.043\n",
      "INFO:root:Epoch[4] Train-accuracy=0.217500\n",
      "INFO:root:Epoch[4] Time cost=0.044\n",
      "INFO:root:Epoch[5] Train-accuracy=0.230000\n",
      "INFO:root:Epoch[5] Time cost=0.045\n",
      "INFO:root:Epoch[6] Train-accuracy=0.251250\n",
      "INFO:root:Epoch[6] Time cost=0.043\n",
      "INFO:root:Epoch[7] Train-accuracy=0.263750\n",
      "INFO:root:Epoch[7] Time cost=0.043\n",
      "INFO:root:Epoch[8] Train-accuracy=0.287500\n",
      "INFO:root:Epoch[8] Time cost=0.043\n",
      "INFO:root:Epoch[9] Train-accuracy=0.313750\n",
      "INFO:root:Epoch[9] Time cost=0.043\n",
      "INFO:root:Epoch[10] Train-accuracy=0.348750\n",
      "INFO:root:Epoch[10] Time cost=0.044\n",
      "INFO:root:Epoch[11] Train-accuracy=0.348750\n",
      "INFO:root:Epoch[11] Time cost=0.044\n",
      "INFO:root:Epoch[12] Train-accuracy=0.358750\n",
      "INFO:root:Epoch[12] Time cost=0.044\n",
      "INFO:root:Epoch[13] Train-accuracy=0.382500\n",
      "INFO:root:Epoch[13] Time cost=0.044\n",
      "INFO:root:Epoch[14] Train-accuracy=0.396250\n",
      "INFO:root:Epoch[14] Time cost=0.043\n",
      "INFO:root:Epoch[15] Train-accuracy=0.417500\n",
      "INFO:root:Epoch[15] Time cost=0.043\n",
      "INFO:root:Epoch[16] Train-accuracy=0.430000\n",
      "INFO:root:Epoch[16] Time cost=0.042\n",
      "INFO:root:Epoch[17] Train-accuracy=0.450000\n",
      "INFO:root:Epoch[17] Time cost=0.043\n",
      "INFO:root:Epoch[18] Train-accuracy=0.475000\n",
      "INFO:root:Epoch[18] Time cost=0.044\n",
      "INFO:root:Epoch[19] Train-accuracy=0.493750\n",
      "INFO:root:Epoch[19] Time cost=0.046\n",
      "INFO:root:Epoch[20] Train-accuracy=0.505000\n",
      "INFO:root:Epoch[20] Time cost=0.042\n",
      "INFO:root:Epoch[21] Train-accuracy=0.541250\n",
      "INFO:root:Epoch[21] Time cost=0.044\n",
      "INFO:root:Epoch[22] Train-accuracy=0.558750\n",
      "INFO:root:Epoch[22] Time cost=0.045\n",
      "INFO:root:Epoch[23] Train-accuracy=0.578750\n",
      "INFO:root:Epoch[23] Time cost=0.045\n",
      "INFO:root:Epoch[24] Train-accuracy=0.596250\n",
      "INFO:root:Epoch[24] Time cost=0.043\n",
      "INFO:root:Epoch[25] Train-accuracy=0.623750\n",
      "INFO:root:Epoch[25] Time cost=0.045\n",
      "INFO:root:Epoch[26] Train-accuracy=0.671250\n",
      "INFO:root:Epoch[26] Time cost=0.044\n",
      "INFO:root:Epoch[27] Train-accuracy=0.683750\n",
      "INFO:root:Epoch[27] Time cost=0.044\n",
      "INFO:root:Epoch[28] Train-accuracy=0.708750\n",
      "INFO:root:Epoch[28] Time cost=0.042\n",
      "INFO:root:Epoch[29] Train-accuracy=0.741250\n",
      "INFO:root:Epoch[29] Time cost=0.044\n",
      "INFO:root:Epoch[30] Train-accuracy=0.762500\n",
      "INFO:root:Epoch[30] Time cost=0.044\n",
      "INFO:root:Epoch[31] Train-accuracy=0.781250\n",
      "INFO:root:Epoch[31] Time cost=0.046\n",
      "INFO:root:Epoch[32] Train-accuracy=0.796250\n",
      "INFO:root:Epoch[32] Time cost=0.045\n",
      "INFO:root:Epoch[33] Train-accuracy=0.826250\n",
      "INFO:root:Epoch[33] Time cost=0.044\n",
      "INFO:root:Epoch[34] Train-accuracy=0.850000\n",
      "INFO:root:Epoch[34] Time cost=0.044\n",
      "INFO:root:Epoch[35] Train-accuracy=0.856250\n",
      "INFO:root:Epoch[35] Time cost=0.043\n",
      "INFO:root:Epoch[36] Train-accuracy=0.885000\n",
      "INFO:root:Epoch[36] Time cost=0.042\n",
      "INFO:root:Epoch[37] Train-accuracy=0.907500\n",
      "INFO:root:Epoch[37] Time cost=0.045\n",
      "INFO:root:Epoch[38] Train-accuracy=0.920000\n",
      "INFO:root:Epoch[38] Time cost=0.043\n",
      "INFO:root:Epoch[39] Train-accuracy=0.938750\n",
      "INFO:root:Epoch[39] Time cost=0.044\n",
      "INFO:root:Epoch[40] Train-accuracy=0.955000\n",
      "INFO:root:Epoch[40] Time cost=0.046\n",
      "INFO:root:Epoch[41] Train-accuracy=0.961250\n",
      "INFO:root:Epoch[41] Time cost=0.045\n",
      "INFO:root:Epoch[42] Train-accuracy=0.975000\n",
      "INFO:root:Epoch[42] Time cost=0.048\n",
      "INFO:root:Epoch[43] Train-accuracy=0.976250\n",
      "INFO:root:Epoch[43] Time cost=0.045\n",
      "INFO:root:Epoch[44] Train-accuracy=0.985000\n",
      "INFO:root:Epoch[44] Time cost=0.047\n",
      "INFO:root:Epoch[45] Train-accuracy=0.992500\n",
      "INFO:root:Epoch[45] Time cost=0.045\n",
      "INFO:root:Epoch[46] Train-accuracy=0.990000\n",
      "INFO:root:Epoch[46] Time cost=0.045\n",
      "INFO:root:Epoch[47] Train-accuracy=0.992500\n",
      "INFO:root:Epoch[47] Time cost=0.045\n",
      "INFO:root:Epoch[48] Train-accuracy=0.995000\n",
      "INFO:root:Epoch[48] Time cost=0.045\n",
      "INFO:root:Epoch[49] Train-accuracy=0.996250\n",
      "INFO:root:Epoch[49] Time cost=0.047\n",
      "INFO:root:Epoch[50] Train-accuracy=0.996250\n",
      "INFO:root:Epoch[50] Time cost=0.046\n",
      "INFO:root:Epoch[51] Train-accuracy=0.998750\n",
      "INFO:root:Epoch[51] Time cost=0.046\n",
      "INFO:root:Epoch[52] Train-accuracy=0.998750\n",
      "INFO:root:Epoch[52] Time cost=0.046\n",
      "INFO:root:Epoch[53] Train-accuracy=0.998750\n",
      "INFO:root:Epoch[53] Time cost=0.045\n",
      "INFO:root:Epoch[54] Train-accuracy=1.000000\n",
      "INFO:root:Epoch[54] Time cost=0.045\n",
      "INFO:root:Epoch[55] Train-accuracy=1.000000\n",
      "INFO:root:Epoch[55] Time cost=0.045\n",
      "INFO:root:Epoch[56] Train-accuracy=1.000000\n",
      "INFO:root:Epoch[56] Time cost=0.043\n",
      "INFO:root:Epoch[57] Train-accuracy=1.000000\n",
      "INFO:root:Epoch[57] Time cost=0.045\n",
      "INFO:root:Epoch[58] Train-accuracy=1.000000\n",
      "INFO:root:Epoch[58] Time cost=0.044\n",
      "INFO:root:Epoch[59] Train-accuracy=1.000000\n",
      "INFO:root:Epoch[59] Time cost=0.043\n"
     ]
    }
   ],
   "source": [
    "mod.bind(data_shapes=train_iter.provide_data, label_shapes=train_iter.provide_label)\n",
    "mod.init_params(initializer=mx.init.Xavier(magnitude=2.))\n",
    "mod.init_optimizer(optimizer='sgd', optimizer_params=(('learning_rate', 0.1), ))\n",
    "mod.fit(train_iter, num_epoch=60)"
   ]
  },
  {
   "cell_type": "code",
   "execution_count": 17,
   "metadata": {
    "collapsed": true
   },
   "outputs": [],
   "source": [
    "pred_iter = mx.io.NDArrayIter(data=X_valid,label=Y_valid, batch_size=batch)\n",
    "pred_count = valid_count"
   ]
  },
  {
   "cell_type": "code",
   "execution_count": 19,
   "metadata": {
    "collapsed": false
   },
   "outputs": [
    {
     "name": "stdout",
     "output_type": "stream",
     "text": [
      "batch [labels] [predicted labels]  correct predictions\n",
      "0 [5 8 5 5 2 6 6 0 7 8] [2 7 4 2 7 4 5 3 7 4] 1\n",
      "1 [3 5 7 5 7 9 8 5 9 6] [5 7 5 6 9 4 9 5 5 3] 1\n",
      "2 [5 5 4 1 1 6 6 2 8 7] [7 1 7 9 2 1 1 6 5 4] 0\n",
      "3 [9 7 0 6 8 5 7 5 1 1] [3 1 2 7 6 7 2 1 4 3] 0\n",
      "4 [5 4 2 4 0 7 4 0 9 3] [1 5 2 7 2 5 7 7 6 2] 1\n",
      "5 [2 4 9 4 0 3 8 2 2 7] [8 1 9 5 1 7 8 5 2 8] 3\n",
      "6 [8 0 5 5 6 1 1 8 2 5] [1 7 9 7 6 4 2 7 4 5] 2\n",
      "7 [3 3 5 4 2 9 2 3 1 2] [5 0 3 3 7 1 6 5 8 8] 0\n",
      "8 [2 4 1 2 6 5 8 9 0 4] [6 4 5 4 4 4 8 0 2 5] 2\n",
      "9 [1 9 1 7 4 7 8 5 8 0] [4 1 1 5 3 3 1 2 5 2] 1\n",
      "10 [9 2 5 1 8 8 4 7 8 0] [5 3 5 4 4 9 7 3 6 5] 1\n",
      "11 [6 8 7 7 2 7 2 3 2 5] [1 5 2 2 5 9 2 9 6 3] 1\n",
      "12 [5 0 3 1 5 0 5 9 2 9] [1 1 5 7 5 9 5 5 5 2] 2\n",
      "13 [1 9 3 9 0 4 5 6 6 3] [6 7 7 5 4 3 5 5 8 1] 1\n",
      "14 [6 4 1 8 5 2 1 6 3 5] [9 5 3 9 7 3 7 5 5 3] 0\n",
      "15 [0 9 6 4 8 7 9 9 2 3] [9 6 5 7 1 8 4 1 9 7] 0\n",
      "16 [6 6 3 6 5 4 3 6 3 6] [9 7 7 2 2 5 1 3 5 2] 0\n",
      "17 [0 2 1 0 1 5 6 3 1 6] [5 8 5 1 1 9 2 3 2 5] 2\n",
      "18 [4 3 2 1 2 7 7 1 5 5] [8 5 3 9 8 1 4 4 8 2] 0\n",
      "19 [7 6 5 7 1 6 5 0 6 0] [9 9 3 0 4 9 7 4 8 4] 0\n",
      "Validation accuracy: 0.09\n"
     ]
    }
   ],
   "source": [
    "correct_preds = total_correct_preds = 0\n",
    "print('batch [labels] [predicted labels]  correct predictions')\n",
    "\n",
    "for preds, i_batch, batch in mod.iter_predict(pred_iter):\n",
    "    label = batch.label[0].asnumpy().astype(int)\n",
    "    pred_label = preds[0].asnumpy().argmax(axis=1)\n",
    "    correct_preds = np.sum(pred_label==label)\n",
    "    print(i_batch, label, pred_label, correct_preds)\n",
    "    total_correct_preds = total_correct_preds + correct_preds\n",
    "\n",
    "print('Validation accuracy: %2.2f' % (1.0*total_correct_preds/pred_count))"
   ]
  },
  {
   "cell_type": "code",
   "execution_count": null,
   "metadata": {
    "collapsed": true
   },
   "outputs": [],
   "source": []
  }
 ],
 "metadata": {
  "kernelspec": {
   "display_name": "Python 3",
   "language": "python",
   "name": "python3"
  },
  "language_info": {
   "codemirror_mode": {
    "name": "ipython",
    "version": 3
   },
   "file_extension": ".py",
   "mimetype": "text/x-python",
   "name": "python",
   "nbconvert_exporter": "python",
   "pygments_lexer": "ipython3",
   "version": "3.5.3"
  }
 },
 "nbformat": 4,
 "nbformat_minor": 2
}
